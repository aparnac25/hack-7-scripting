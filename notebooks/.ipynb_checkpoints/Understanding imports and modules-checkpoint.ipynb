{
 "cells": [
  {
   "cell_type": "code",
   "execution_count": 2,
   "id": "certified-bathroom",
   "metadata": {},
   "outputs": [],
   "source": [
    "import os \n",
    "import sys"
   ]
  },
  {
   "cell_type": "code",
   "execution_count": 3,
   "id": "accessory-phone",
   "metadata": {},
   "outputs": [
    {
     "name": "stdout",
     "output_type": "stream",
     "text": [
      "['/Users/pern/Desktop/hacks/hack-7-scripting/notebooks', '/Users/pern/miniconda3/lib/python38.zip', '/Users/pern/miniconda3/lib/python3.8', '/Users/pern/miniconda3/lib/python3.8/lib-dynload', '', '/Users/pern/miniconda3/lib/python3.8/site-packages', '/Users/pern/miniconda3/lib/python3.8/site-packages/IPython/extensions', '/Users/pern/.ipython']\n"
     ]
    }
   ],
   "source": [
    "print(sys.path)"
   ]
  },
  {
   "cell_type": "code",
   "execution_count": 4,
   "id": "logical-stephen",
   "metadata": {
    "scrolled": true
   },
   "outputs": [
    {
     "name": "stdout",
     "output_type": "stream",
     "text": [
      "['/Users/pern/Desktop/hacks/hack-7-scripting/notebooks', '/Users/pern/miniconda3/lib/python38.zip', '/Users/pern/miniconda3/lib/python3.8', '/Users/pern/miniconda3/lib/python3.8/lib-dynload', '', '/Users/pern/miniconda3/lib/python3.8/site-packages', '/Users/pern/miniconda3/lib/python3.8/site-packages/IPython/extensions', '/Users/pern/.ipython', '..']\n"
     ]
    }
   ],
   "source": [
    "sys.path.append(\"..\")\n",
    "print(sys.path)"
   ]
  },
  {
   "cell_type": "code",
   "execution_count": 5,
   "id": "dependent-growing",
   "metadata": {},
   "outputs": [],
   "source": [
    "import mypackage"
   ]
  },
  {
   "cell_type": "code",
   "execution_count": 6,
   "id": "increasing-plymouth",
   "metadata": {},
   "outputs": [
    {
     "data": {
      "text/plain": [
       "'It is decidedly so.'"
      ]
     },
     "execution_count": 6,
     "metadata": {},
     "output_type": "execute_result"
    }
   ],
   "source": [
    "mypackage.mymodule.magic_eight_ball()"
   ]
  },
  {
   "cell_type": "code",
   "execution_count": 7,
   "id": "greater-carroll",
   "metadata": {},
   "outputs": [],
   "source": [
    "mypackage?"
   ]
  }
 ],
 "metadata": {
  "kernelspec": {
   "display_name": "Python 3",
   "language": "python",
   "name": "python3"
  },
  "language_info": {
   "codemirror_mode": {
    "name": "ipython",
    "version": 3
   },
   "file_extension": ".py",
   "mimetype": "text/x-python",
   "name": "python",
   "nbconvert_exporter": "python",
   "pygments_lexer": "ipython3",
   "version": "3.8.5"
  }
 },
 "nbformat": 4,
 "nbformat_minor": 5
}
